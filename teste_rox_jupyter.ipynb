{
 "cells": [
  {
   "cell_type": "markdown",
   "id": "33ad09e5",
   "metadata": {},
   "source": [
    "## <font color='blue'>Teste Prático Engenheiro de dados Jr.</font>"
   ]
  },
  {
   "cell_type": "markdown",
   "id": "c0e04897",
   "metadata": {},
   "source": [
    "### <font color='blue'>Questão 1.</font>"
   ]
  },
  {
   "cell_type": "code",
   "execution_count": 1,
   "id": "32867f22",
   "metadata": {},
   "outputs": [],
   "source": [
    "# importando a biblioteca Pandas\n",
    "import pandas as pd"
   ]
  },
  {
   "cell_type": "code",
   "execution_count": 2,
   "id": "fdb2d906",
   "metadata": {},
   "outputs": [],
   "source": [
    "# carregando o conjunto de dados para o data frame\n",
    "df_sales = pd.read_excel(\"sales_data.xlsx\", engine='openpyxl')"
   ]
  },
  {
   "cell_type": "code",
   "execution_count": 3,
   "id": "8d897d49",
   "metadata": {},
   "outputs": [
    {
     "data": {
      "text/html": [
       "<div>\n",
       "<style scoped>\n",
       "    .dataframe tbody tr th:only-of-type {\n",
       "        vertical-align: middle;\n",
       "    }\n",
       "\n",
       "    .dataframe tbody tr th {\n",
       "        vertical-align: top;\n",
       "    }\n",
       "\n",
       "    .dataframe thead th {\n",
       "        text-align: right;\n",
       "    }\n",
       "</style>\n",
       "<table border=\"1\" class=\"dataframe\">\n",
       "  <thead>\n",
       "    <tr style=\"text-align: right;\">\n",
       "      <th></th>\n",
       "      <th>order_id</th>\n",
       "      <th>product_name</th>\n",
       "      <th>quantity</th>\n",
       "      <th>unit_price</th>\n",
       "      <th>cliente_id</th>\n",
       "      <th>order_date</th>\n",
       "    </tr>\n",
       "  </thead>\n",
       "  <tbody>\n",
       "    <tr>\n",
       "      <th>0</th>\n",
       "      <td>1</td>\n",
       "      <td>Produto A</td>\n",
       "      <td>3</td>\n",
       "      <td>25</td>\n",
       "      <td>74</td>\n",
       "      <td>2024-03-01</td>\n",
       "    </tr>\n",
       "    <tr>\n",
       "      <th>1</th>\n",
       "      <td>2</td>\n",
       "      <td>Produto B</td>\n",
       "      <td>2</td>\n",
       "      <td>30</td>\n",
       "      <td>36</td>\n",
       "      <td>2024-03-02</td>\n",
       "    </tr>\n",
       "    <tr>\n",
       "      <th>2</th>\n",
       "      <td>3</td>\n",
       "      <td>Produto C</td>\n",
       "      <td>1</td>\n",
       "      <td>20</td>\n",
       "      <td>12</td>\n",
       "      <td>2024-03-03</td>\n",
       "    </tr>\n",
       "    <tr>\n",
       "      <th>3</th>\n",
       "      <td>4</td>\n",
       "      <td>Produto A</td>\n",
       "      <td>4</td>\n",
       "      <td>25</td>\n",
       "      <td>92</td>\n",
       "      <td>2024-03-04</td>\n",
       "    </tr>\n",
       "    <tr>\n",
       "      <th>4</th>\n",
       "      <td>5</td>\n",
       "      <td>Produto D</td>\n",
       "      <td>2</td>\n",
       "      <td>40</td>\n",
       "      <td>55</td>\n",
       "      <td>2024-03-05</td>\n",
       "    </tr>\n",
       "  </tbody>\n",
       "</table>\n",
       "</div>"
      ],
      "text/plain": [
       "   order_id product_name  quantity  unit_price  cliente_id order_date\n",
       "0         1    Produto A         3          25          74 2024-03-01\n",
       "1         2    Produto B         2          30          36 2024-03-02\n",
       "2         3    Produto C         1          20          12 2024-03-03\n",
       "3         4    Produto A         4          25          92 2024-03-04\n",
       "4         5    Produto D         2          40          55 2024-03-05"
      ]
     },
     "execution_count": 3,
     "metadata": {},
     "output_type": "execute_result"
    }
   ],
   "source": [
    "# Visualizando as primeiras linhas do conjunto de dados\n",
    "df_sales.head(5)"
   ]
  },
  {
   "cell_type": "code",
   "execution_count": 4,
   "id": "705df12e",
   "metadata": {},
   "outputs": [
    {
     "data": {
      "text/plain": [
       "order_id        0\n",
       "product_name    0\n",
       "quantity        0\n",
       "unit_price      0\n",
       "cliente_id      0\n",
       "order_date      0\n",
       "dtype: int64"
      ]
     },
     "execution_count": 4,
     "metadata": {},
     "output_type": "execute_result"
    }
   ],
   "source": [
    "# Verificando se existem valores nulos\n",
    "df_sales.isna().sum()"
   ]
  },
  {
   "cell_type": "code",
   "execution_count": 5,
   "id": "2c79bc7f",
   "metadata": {
    "scrolled": true
   },
   "outputs": [
    {
     "data": {
      "text/plain": [
       "order_id                 int64\n",
       "product_name            object\n",
       "quantity                 int64\n",
       "unit_price               int64\n",
       "cliente_id               int64\n",
       "order_date      datetime64[ns]\n",
       "dtype: object"
      ]
     },
     "execution_count": 5,
     "metadata": {},
     "output_type": "execute_result"
    }
   ],
   "source": [
    "# Verificando o tipo dos dados de cada campo\n",
    "df_sales.dtypes"
   ]
  },
  {
   "cell_type": "code",
   "execution_count": 6,
   "id": "b82db99c",
   "metadata": {},
   "outputs": [],
   "source": [
    "# Alterando o tipo de dados\n",
    "df_sales['unit_price'] = df_sales['unit_price'].astype(float)\n",
    "df_sales['cliente_id'] = df_sales['cliente_id'].astype(str)"
   ]
  },
  {
   "cell_type": "code",
   "execution_count": 7,
   "id": "00daefa5",
   "metadata": {},
   "outputs": [],
   "source": [
    "# Criando o campo de total de vendas\n",
    "df_sales['total'] = df_sales['quantity'] * df_sales['unit_price']"
   ]
  },
  {
   "cell_type": "code",
   "execution_count": 8,
   "id": "271b02f3",
   "metadata": {},
   "outputs": [
    {
     "data": {
      "text/plain": [
       "count                    100\n",
       "mean     2024-04-19 12:00:00\n",
       "min      2024-03-01 00:00:00\n",
       "25%      2024-03-25 18:00:00\n",
       "50%      2024-04-19 12:00:00\n",
       "75%      2024-05-14 06:00:00\n",
       "max      2024-06-08 00:00:00\n",
       "Name: order_date, dtype: object"
      ]
     },
     "execution_count": 8,
     "metadata": {},
     "output_type": "execute_result"
    }
   ],
   "source": [
    "# Verificando o período de datas de vendas\n",
    "# Conforme o resulta os conjunto dados posssui vendas entre o perído de 01/03/24 a 08/06/24\n",
    "df_sales['order_date'].describe()"
   ]
  },
  {
   "cell_type": "code",
   "execution_count": 9,
   "id": "4640c50b",
   "metadata": {},
   "outputs": [
    {
     "data": {
      "text/plain": [
       "count    100.000000\n",
       "mean      66.450000\n",
       "std       31.126128\n",
       "min       20.000000\n",
       "25%       40.000000\n",
       "50%       60.000000\n",
       "75%       82.500000\n",
       "max      120.000000\n",
       "Name: total, dtype: float64"
      ]
     },
     "execution_count": 9,
     "metadata": {},
     "output_type": "execute_result"
    }
   ],
   "source": [
    "# Verificando os valores de vendas\n",
    "# Pode-se verificar que o conjunto possui 100 vendas com valores entre 20 e 120\n",
    "df_sales['total'].describe()"
   ]
  },
  {
   "cell_type": "code",
   "execution_count": 10,
   "id": "eab6945a",
   "metadata": {},
   "outputs": [],
   "source": [
    "# Criando o campo de data somente com mês e ano\n",
    "df_sales['year_month'] = pd.to_datetime(df_sales['order_date']).dt.to_period('M').astype(str)"
   ]
  },
  {
   "cell_type": "code",
   "execution_count": 45,
   "id": "c89dea15",
   "metadata": {},
   "outputs": [],
   "source": [
    "# Somando os valores das vendas e agrupando por mês e ano e produto\n",
    "total_vendas = df_sales['total'].sum()\n",
    "vendas_mes = df_sales.groupby('year_month')['total'].sum().reset_index()\n",
    "vendas_produto = df_sales[['year_month', 'product_name', 'total']].groupby(['year_month', 'product_name']).sum()"
   ]
  },
  {
   "cell_type": "code",
   "execution_count": 46,
   "id": "25878fbf",
   "metadata": {},
   "outputs": [
    {
     "name": "stdout",
     "output_type": "stream",
     "text": [
      "6645.0\n",
      "  year_month   total\n",
      "0    2024-03  2050.0\n",
      "1    2024-04  1995.0\n",
      "2    2024-05  2065.0\n",
      "3    2024-06   535.0\n",
      "                         total\n",
      "year_month product_name       \n",
      "2024-03    Produto A     550.0\n",
      "           Produto B     540.0\n",
      "           Produto C     320.0\n",
      "           Produto D     640.0\n",
      "2024-04    Produto A     375.0\n",
      "           Produto B     540.0\n",
      "           Produto C     400.0\n",
      "           Produto D     680.0\n",
      "2024-05    Produto A     525.0\n",
      "           Produto B     540.0\n",
      "           Produto C     360.0\n",
      "           Produto D     640.0\n",
      "2024-06    Produto A      75.0\n",
      "           Produto B     180.0\n",
      "           Produto C     120.0\n",
      "           Produto D     160.0\n"
     ]
    }
   ],
   "source": [
    "# Pode-se verificar os valores de vendas total do período, os valores de vendas por mês e os valores por mês e por produto\n",
    "print(total_vendas)\n",
    "print(vendas_mes)\n",
    "print(vendas_produto)"
   ]
  },
  {
   "cell_type": "markdown",
   "id": "0bb65411",
   "metadata": {},
   "source": [
    "### <font color='blue'>Questão 2.</font>"
   ]
  },
  {
   "cell_type": "code",
   "execution_count": 13,
   "id": "54142241",
   "metadata": {},
   "outputs": [],
   "source": [
    "# carregando o conjunto de dados para o data frame\n",
    "df_customer = pd.read_excel(\"customer_data.xlsx\", engine='openpyxl')"
   ]
  },
  {
   "cell_type": "code",
   "execution_count": 14,
   "id": "204011ef",
   "metadata": {},
   "outputs": [
    {
     "data": {
      "text/html": [
       "<div>\n",
       "<style scoped>\n",
       "    .dataframe tbody tr th:only-of-type {\n",
       "        vertical-align: middle;\n",
       "    }\n",
       "\n",
       "    .dataframe tbody tr th {\n",
       "        vertical-align: top;\n",
       "    }\n",
       "\n",
       "    .dataframe thead th {\n",
       "        text-align: right;\n",
       "    }\n",
       "</style>\n",
       "<table border=\"1\" class=\"dataframe\">\n",
       "  <thead>\n",
       "    <tr style=\"text-align: right;\">\n",
       "      <th></th>\n",
       "      <th>id_cliente</th>\n",
       "      <th>nome</th>\n",
       "      <th>sobrenome</th>\n",
       "      <th>email</th>\n",
       "      <th>telefone</th>\n",
       "      <th>endereço</th>\n",
       "      <th>numero</th>\n",
       "    </tr>\n",
       "  </thead>\n",
       "  <tbody>\n",
       "    <tr>\n",
       "      <th>0</th>\n",
       "      <td>1</td>\n",
       "      <td>João</td>\n",
       "      <td>Silva</td>\n",
       "      <td>joao.silva@email.com</td>\n",
       "      <td>(11) 1234-5678</td>\n",
       "      <td>Rua das Flores</td>\n",
       "      <td>123</td>\n",
       "    </tr>\n",
       "    <tr>\n",
       "      <th>1</th>\n",
       "      <td>2</td>\n",
       "      <td>Maria</td>\n",
       "      <td>Santos</td>\n",
       "      <td>maria.santos@email.com</td>\n",
       "      <td>(11) 2345-6789</td>\n",
       "      <td>Avenida Principal</td>\n",
       "      <td>456</td>\n",
       "    </tr>\n",
       "    <tr>\n",
       "      <th>2</th>\n",
       "      <td>3</td>\n",
       "      <td>Carlos</td>\n",
       "      <td>Rocha</td>\n",
       "      <td>carlos.rocha@email.com</td>\n",
       "      <td>(11) 3456-7890</td>\n",
       "      <td>Travessa das Árvores</td>\n",
       "      <td>789</td>\n",
       "    </tr>\n",
       "    <tr>\n",
       "      <th>3</th>\n",
       "      <td>4</td>\n",
       "      <td>Ana</td>\n",
       "      <td>Costa</td>\n",
       "      <td>ana.costa@email.com</td>\n",
       "      <td>(11) 4567-8901</td>\n",
       "      <td>Rua dos Passarinhos</td>\n",
       "      <td>987</td>\n",
       "    </tr>\n",
       "    <tr>\n",
       "      <th>4</th>\n",
       "      <td>5</td>\n",
       "      <td>Luiz</td>\n",
       "      <td>Oliveira</td>\n",
       "      <td>luiz.oliveira@email.com</td>\n",
       "      <td>(11) 5678-9012</td>\n",
       "      <td>Alameda das Rosas</td>\n",
       "      <td>654</td>\n",
       "    </tr>\n",
       "  </tbody>\n",
       "</table>\n",
       "</div>"
      ],
      "text/plain": [
       "   id_cliente    nome sobrenome                    email        telefone   \n",
       "0           1    João     Silva     joao.silva@email.com  (11) 1234-5678  \\\n",
       "1           2   Maria    Santos   maria.santos@email.com  (11) 2345-6789   \n",
       "2           3  Carlos     Rocha   carlos.rocha@email.com  (11) 3456-7890   \n",
       "3           4     Ana     Costa      ana.costa@email.com  (11) 4567-8901   \n",
       "4           5    Luiz  Oliveira  luiz.oliveira@email.com  (11) 5678-9012   \n",
       "\n",
       "               endereço  numero  \n",
       "0        Rua das Flores     123  \n",
       "1     Avenida Principal     456  \n",
       "2  Travessa das Árvores     789  \n",
       "3   Rua dos Passarinhos     987  \n",
       "4     Alameda das Rosas     654  "
      ]
     },
     "execution_count": 14,
     "metadata": {},
     "output_type": "execute_result"
    }
   ],
   "source": [
    "# Visualizando as primeiras linhas do conjunto de dados\n",
    "df_customer.head(5)"
   ]
  },
  {
   "cell_type": "code",
   "execution_count": 15,
   "id": "da0b80a0",
   "metadata": {
    "scrolled": false
   },
   "outputs": [
    {
     "data": {
      "text/plain": [
       "id_cliente    0\n",
       "nome          0\n",
       "sobrenome     0\n",
       "email         0\n",
       "telefone      0\n",
       "endereço      0\n",
       "numero        0\n",
       "dtype: int64"
      ]
     },
     "execution_count": 15,
     "metadata": {},
     "output_type": "execute_result"
    }
   ],
   "source": [
    "# Verificando se existem valores nulos\n",
    "df_customer.isna().sum()"
   ]
  },
  {
   "cell_type": "code",
   "execution_count": 16,
   "id": "9560a591",
   "metadata": {},
   "outputs": [
    {
     "data": {
      "text/plain": [
       "id_cliente     int64\n",
       "nome          object\n",
       "sobrenome     object\n",
       "email         object\n",
       "telefone      object\n",
       "endereço      object\n",
       "numero         int64\n",
       "dtype: object"
      ]
     },
     "execution_count": 16,
     "metadata": {},
     "output_type": "execute_result"
    }
   ],
   "source": [
    "# Verificando o tipo dos dados de cada campo\n",
    "df_customer.dtypes"
   ]
  },
  {
   "cell_type": "code",
   "execution_count": 17,
   "id": "19f82752",
   "metadata": {},
   "outputs": [],
   "source": [
    "# Alterando o tipo de dados\n",
    "df_customer['id_cliente'] = df_customer['id_cliente'].astype(str)\n",
    "df_customer['numero'] = df_customer['numero'].astype(str)"
   ]
  },
  {
   "cell_type": "code",
   "execution_count": 18,
   "id": "61d0aef0",
   "metadata": {},
   "outputs": [],
   "source": [
    "# Fazendo a junção das duas tabelas utilizando o campo cliente_id como chave para o relaciomento\n",
    "df_teste_rox = df_sales.merge(df_customer, how='left', left_on='cliente_id', right_on='id_cliente')"
   ]
  },
  {
   "cell_type": "code",
   "execution_count": 19,
   "id": "331bc8c0",
   "metadata": {},
   "outputs": [],
   "source": [
    "# Renomeando os nomes das colunas para padronizar todos os nomes em inglês\n",
    "df_teste_rox.rename(columns={'nome' : 'name',\n",
    "                            'sobrenome' : 'last_name',\n",
    "                            'telefone' : 'phone_number',\n",
    "                            'endereço' : 'address',\n",
    "                            'numero' : 'number'}, inplace=True)"
   ]
  },
  {
   "cell_type": "code",
   "execution_count": 20,
   "id": "7e825e58",
   "metadata": {},
   "outputs": [
    {
     "data": {
      "text/html": [
       "<div>\n",
       "<style scoped>\n",
       "    .dataframe tbody tr th:only-of-type {\n",
       "        vertical-align: middle;\n",
       "    }\n",
       "\n",
       "    .dataframe tbody tr th {\n",
       "        vertical-align: top;\n",
       "    }\n",
       "\n",
       "    .dataframe thead th {\n",
       "        text-align: right;\n",
       "    }\n",
       "</style>\n",
       "<table border=\"1\" class=\"dataframe\">\n",
       "  <thead>\n",
       "    <tr style=\"text-align: right;\">\n",
       "      <th></th>\n",
       "      <th>order_id</th>\n",
       "      <th>product_name</th>\n",
       "      <th>quantity</th>\n",
       "      <th>unit_price</th>\n",
       "      <th>cliente_id</th>\n",
       "      <th>order_date</th>\n",
       "      <th>total</th>\n",
       "      <th>year_month</th>\n",
       "      <th>id_cliente</th>\n",
       "      <th>name</th>\n",
       "      <th>last_name</th>\n",
       "      <th>email</th>\n",
       "      <th>phone_number</th>\n",
       "      <th>address</th>\n",
       "      <th>number</th>\n",
       "    </tr>\n",
       "  </thead>\n",
       "  <tbody>\n",
       "    <tr>\n",
       "      <th>0</th>\n",
       "      <td>1</td>\n",
       "      <td>Produto A</td>\n",
       "      <td>3</td>\n",
       "      <td>25.0</td>\n",
       "      <td>74</td>\n",
       "      <td>2024-03-01</td>\n",
       "      <td>75.0</td>\n",
       "      <td>2024-03</td>\n",
       "      <td>74</td>\n",
       "      <td>Diego</td>\n",
       "      <td>Souza</td>\n",
       "      <td>diego.souza@email.com</td>\n",
       "      <td>(11) 4567-8901</td>\n",
       "      <td>Rua dos Girassóis</td>\n",
       "      <td>654</td>\n",
       "    </tr>\n",
       "    <tr>\n",
       "      <th>1</th>\n",
       "      <td>2</td>\n",
       "      <td>Produto B</td>\n",
       "      <td>2</td>\n",
       "      <td>30.0</td>\n",
       "      <td>36</td>\n",
       "      <td>2024-03-02</td>\n",
       "      <td>60.0</td>\n",
       "      <td>2024-03</td>\n",
       "      <td>36</td>\n",
       "      <td>Isabela</td>\n",
       "      <td>Rodrigues</td>\n",
       "      <td>isabela.rodrigues@email.com</td>\n",
       "      <td>(11) 6789-0123</td>\n",
       "      <td>Quadra 5</td>\n",
       "      <td>321</td>\n",
       "    </tr>\n",
       "    <tr>\n",
       "      <th>2</th>\n",
       "      <td>3</td>\n",
       "      <td>Produto C</td>\n",
       "      <td>1</td>\n",
       "      <td>20.0</td>\n",
       "      <td>12</td>\n",
       "      <td>2024-03-03</td>\n",
       "      <td>20.0</td>\n",
       "      <td>2024-03</td>\n",
       "      <td>12</td>\n",
       "      <td>Beatriz</td>\n",
       "      <td>Martins</td>\n",
       "      <td>beatriz.martins@email.com</td>\n",
       "      <td>(11) 2345-6789</td>\n",
       "      <td>Avenida dos Lírios</td>\n",
       "      <td>987</td>\n",
       "    </tr>\n",
       "    <tr>\n",
       "      <th>3</th>\n",
       "      <td>4</td>\n",
       "      <td>Produto A</td>\n",
       "      <td>4</td>\n",
       "      <td>25.0</td>\n",
       "      <td>92</td>\n",
       "      <td>2024-03-04</td>\n",
       "      <td>100.0</td>\n",
       "      <td>2024-03</td>\n",
       "      <td>92</td>\n",
       "      <td>Marcelo</td>\n",
       "      <td>Silva</td>\n",
       "      <td>marcelo.silva@email.com</td>\n",
       "      <td>(11) 2345-6789</td>\n",
       "      <td>Avenida dos Narcisos</td>\n",
       "      <td>654</td>\n",
       "    </tr>\n",
       "    <tr>\n",
       "      <th>4</th>\n",
       "      <td>5</td>\n",
       "      <td>Produto D</td>\n",
       "      <td>2</td>\n",
       "      <td>40.0</td>\n",
       "      <td>55</td>\n",
       "      <td>2024-03-05</td>\n",
       "      <td>80.0</td>\n",
       "      <td>2024-03</td>\n",
       "      <td>55</td>\n",
       "      <td>Felipe</td>\n",
       "      <td>Gomes</td>\n",
       "      <td>felipe.gomes@email.com</td>\n",
       "      <td>(11) 5678-9012</td>\n",
       "      <td>Alameda dos Crisântemos</td>\n",
       "      <td>987</td>\n",
       "    </tr>\n",
       "    <tr>\n",
       "      <th>...</th>\n",
       "      <td>...</td>\n",
       "      <td>...</td>\n",
       "      <td>...</td>\n",
       "      <td>...</td>\n",
       "      <td>...</td>\n",
       "      <td>...</td>\n",
       "      <td>...</td>\n",
       "      <td>...</td>\n",
       "      <td>...</td>\n",
       "      <td>...</td>\n",
       "      <td>...</td>\n",
       "      <td>...</td>\n",
       "      <td>...</td>\n",
       "      <td>...</td>\n",
       "      <td>...</td>\n",
       "    </tr>\n",
       "    <tr>\n",
       "      <th>95</th>\n",
       "      <td>96</td>\n",
       "      <td>Produto C</td>\n",
       "      <td>2</td>\n",
       "      <td>20.0</td>\n",
       "      <td>29</td>\n",
       "      <td>2024-06-04</td>\n",
       "      <td>40.0</td>\n",
       "      <td>2024-06</td>\n",
       "      <td>29</td>\n",
       "      <td>Rodrigo</td>\n",
       "      <td>Silveira</td>\n",
       "      <td>rodrigo.silveira@email.com</td>\n",
       "      <td>(11) 9012-3456</td>\n",
       "      <td>Avenida das Amoras</td>\n",
       "      <td>654</td>\n",
       "    </tr>\n",
       "    <tr>\n",
       "      <th>96</th>\n",
       "      <td>97</td>\n",
       "      <td>Produto D</td>\n",
       "      <td>3</td>\n",
       "      <td>40.0</td>\n",
       "      <td>76</td>\n",
       "      <td>2024-06-05</td>\n",
       "      <td>120.0</td>\n",
       "      <td>2024-06</td>\n",
       "      <td>76</td>\n",
       "      <td>Jessica</td>\n",
       "      <td>Fernandes</td>\n",
       "      <td>jessica.fernandes@email.com</td>\n",
       "      <td>(11) 6789-0123</td>\n",
       "      <td>Quadra 9</td>\n",
       "      <td>987</td>\n",
       "    </tr>\n",
       "    <tr>\n",
       "      <th>97</th>\n",
       "      <td>98</td>\n",
       "      <td>Produto A</td>\n",
       "      <td>1</td>\n",
       "      <td>25.0</td>\n",
       "      <td>97</td>\n",
       "      <td>2024-06-06</td>\n",
       "      <td>25.0</td>\n",
       "      <td>2024-06</td>\n",
       "      <td>97</td>\n",
       "      <td>Larissa</td>\n",
       "      <td>Gonçalves</td>\n",
       "      <td>larissa.goncalves@email.com</td>\n",
       "      <td>(11) 7890-1234</td>\n",
       "      <td>Praça dos Jardins</td>\n",
       "      <td>987</td>\n",
       "    </tr>\n",
       "    <tr>\n",
       "      <th>98</th>\n",
       "      <td>99</td>\n",
       "      <td>Produto B</td>\n",
       "      <td>2</td>\n",
       "      <td>30.0</td>\n",
       "      <td>50</td>\n",
       "      <td>2024-06-07</td>\n",
       "      <td>60.0</td>\n",
       "      <td>2024-06</td>\n",
       "      <td>50</td>\n",
       "      <td>Vanessa</td>\n",
       "      <td>Silva</td>\n",
       "      <td>vanessa.silva@email.com</td>\n",
       "      <td>(11) 0123-4567</td>\n",
       "      <td>Alameda dos Cravos</td>\n",
       "      <td>654</td>\n",
       "    </tr>\n",
       "    <tr>\n",
       "      <th>99</th>\n",
       "      <td>100</td>\n",
       "      <td>Produto C</td>\n",
       "      <td>4</td>\n",
       "      <td>20.0</td>\n",
       "      <td>67</td>\n",
       "      <td>2024-06-08</td>\n",
       "      <td>80.0</td>\n",
       "      <td>2024-06</td>\n",
       "      <td>67</td>\n",
       "      <td>Marcio</td>\n",
       "      <td>Gonçalves</td>\n",
       "      <td>marcio.goncalves@email.com</td>\n",
       "      <td>(11) 7890-1234</td>\n",
       "      <td>Praça dos Lírios</td>\n",
       "      <td>987</td>\n",
       "    </tr>\n",
       "  </tbody>\n",
       "</table>\n",
       "<p>100 rows × 15 columns</p>\n",
       "</div>"
      ],
      "text/plain": [
       "    order_id product_name  quantity  unit_price cliente_id order_date  total   \n",
       "0          1    Produto A         3        25.0         74 2024-03-01   75.0  \\\n",
       "1          2    Produto B         2        30.0         36 2024-03-02   60.0   \n",
       "2          3    Produto C         1        20.0         12 2024-03-03   20.0   \n",
       "3          4    Produto A         4        25.0         92 2024-03-04  100.0   \n",
       "4          5    Produto D         2        40.0         55 2024-03-05   80.0   \n",
       "..       ...          ...       ...         ...        ...        ...    ...   \n",
       "95        96    Produto C         2        20.0         29 2024-06-04   40.0   \n",
       "96        97    Produto D         3        40.0         76 2024-06-05  120.0   \n",
       "97        98    Produto A         1        25.0         97 2024-06-06   25.0   \n",
       "98        99    Produto B         2        30.0         50 2024-06-07   60.0   \n",
       "99       100    Produto C         4        20.0         67 2024-06-08   80.0   \n",
       "\n",
       "   year_month id_cliente     name  last_name                        email   \n",
       "0     2024-03         74    Diego      Souza        diego.souza@email.com  \\\n",
       "1     2024-03         36  Isabela  Rodrigues  isabela.rodrigues@email.com   \n",
       "2     2024-03         12  Beatriz    Martins    beatriz.martins@email.com   \n",
       "3     2024-03         92  Marcelo      Silva      marcelo.silva@email.com   \n",
       "4     2024-03         55   Felipe      Gomes       felipe.gomes@email.com   \n",
       "..        ...        ...      ...        ...                          ...   \n",
       "95    2024-06         29  Rodrigo   Silveira   rodrigo.silveira@email.com   \n",
       "96    2024-06         76  Jessica  Fernandes  jessica.fernandes@email.com   \n",
       "97    2024-06         97  Larissa  Gonçalves  larissa.goncalves@email.com   \n",
       "98    2024-06         50  Vanessa      Silva      vanessa.silva@email.com   \n",
       "99    2024-06         67   Marcio  Gonçalves   marcio.goncalves@email.com   \n",
       "\n",
       "      phone_number                  address number  \n",
       "0   (11) 4567-8901        Rua dos Girassóis    654  \n",
       "1   (11) 6789-0123                 Quadra 5    321  \n",
       "2   (11) 2345-6789       Avenida dos Lírios    987  \n",
       "3   (11) 2345-6789     Avenida dos Narcisos    654  \n",
       "4   (11) 5678-9012  Alameda dos Crisântemos    987  \n",
       "..             ...                      ...    ...  \n",
       "95  (11) 9012-3456       Avenida das Amoras    654  \n",
       "96  (11) 6789-0123                 Quadra 9    987  \n",
       "97  (11) 7890-1234        Praça dos Jardins    987  \n",
       "98  (11) 0123-4567       Alameda dos Cravos    654  \n",
       "99  (11) 7890-1234         Praça dos Lírios    987  \n",
       "\n",
       "[100 rows x 15 columns]"
      ]
     },
     "execution_count": 20,
     "metadata": {},
     "output_type": "execute_result"
    }
   ],
   "source": [
    "df_teste_rox"
   ]
  },
  {
   "cell_type": "markdown",
   "id": "07f5a225",
   "metadata": {},
   "source": [
    "### <font color='blue'>Questão 3.</font>"
   ]
  },
  {
   "cell_type": "code",
   "execution_count": 21,
   "id": "9eb62300",
   "metadata": {},
   "outputs": [],
   "source": [
    "!pip install -q matplotlib==3.7.1"
   ]
  },
  {
   "cell_type": "code",
   "execution_count": 22,
   "id": "17820305",
   "metadata": {},
   "outputs": [],
   "source": [
    "import matplotlib as mpl\n",
    "import matplotlib.pyplot as plt\n",
    "%matplotlib inline"
   ]
  },
  {
   "cell_type": "code",
   "execution_count": 47,
   "id": "26907702",
   "metadata": {},
   "outputs": [
    {
     "data": {
      "text/plain": [
       "Index(['year_month', 'total'], dtype='object')"
      ]
     },
     "execution_count": 47,
     "metadata": {},
     "output_type": "execute_result"
    }
   ],
   "source": [
    "vendas_mes.columns"
   ]
  },
  {
   "cell_type": "code",
   "execution_count": 51,
   "id": "e696e7b9",
   "metadata": {},
   "outputs": [],
   "source": [
    "date = vendas_mes['year_month']\n",
    "sales = vendas_mes['total']"
   ]
  },
  {
   "cell_type": "code",
   "execution_count": 58,
   "id": "f2c0518b",
   "metadata": {},
   "outputs": [
    {
     "data": {
      "image/png": "[encoded data removed]",
      "text/plain": [
       "<Figure size 1000x600 with 1 Axes>"
      ]
     },
     "metadata": {},
     "output_type": "display_data"
    }
   ],
   "source": [
    "# Criando um grafico de barras para demonstrar a venda mensal.\n",
    "plt.figure(figsize=(10, 6))\n",
    "plt.bar(date, sales, color='blue', )\n",
    "plt.show()"
   ]
  },
  {
   "cell_type": "code",
   "execution_count": null,
   "id": "3b803b4d",
   "metadata": {},
   "outputs": [],
   "source": [
    "# Demonstrando a representatividade de cada produto na venda"
   ]
  },
  {
   "cell_type": "code",
   "execution_count": 59,
   "id": "487ad1fc",
   "metadata": {},
   "outputs": [],
   "source": [
    "vendas_produtos = df_sales.groupby('product_name')['total'].sum().reset_index()"
   ]
  },
  {
   "cell_type": "code",
   "execution_count": 61,
   "id": "bd30becf",
   "metadata": {},
   "outputs": [
    {
     "data": {
      "text/html": [
       "<div>\n",
       "<style scoped>\n",
       "    .dataframe tbody tr th:only-of-type {\n",
       "        vertical-align: middle;\n",
       "    }\n",
       "\n",
       "    .dataframe tbody tr th {\n",
       "        vertical-align: top;\n",
       "    }\n",
       "\n",
       "    .dataframe thead th {\n",
       "        text-align: right;\n",
       "    }\n",
       "</style>\n",
       "<table border=\"1\" class=\"dataframe\">\n",
       "  <thead>\n",
       "    <tr style=\"text-align: right;\">\n",
       "      <th></th>\n",
       "      <th>product_name</th>\n",
       "      <th>total</th>\n",
       "    </tr>\n",
       "  </thead>\n",
       "  <tbody>\n",
       "    <tr>\n",
       "      <th>0</th>\n",
       "      <td>Produto A</td>\n",
       "      <td>1525.0</td>\n",
       "    </tr>\n",
       "    <tr>\n",
       "      <th>1</th>\n",
       "      <td>Produto B</td>\n",
       "      <td>1800.0</td>\n",
       "    </tr>\n",
       "    <tr>\n",
       "      <th>2</th>\n",
       "      <td>Produto C</td>\n",
       "      <td>1200.0</td>\n",
       "    </tr>\n",
       "    <tr>\n",
       "      <th>3</th>\n",
       "      <td>Produto D</td>\n",
       "      <td>2120.0</td>\n",
       "    </tr>\n",
       "  </tbody>\n",
       "</table>\n",
       "</div>"
      ],
      "text/plain": [
       "  product_name   total\n",
       "0    Produto A  1525.0\n",
       "1    Produto B  1800.0\n",
       "2    Produto C  1200.0\n",
       "3    Produto D  2120.0"
      ]
     },
     "execution_count": 61,
     "metadata": {},
     "output_type": "execute_result"
    }
   ],
   "source": [
    "vendas_produtos"
   ]
  },
  {
   "cell_type": "code",
   "execution_count": 71,
   "id": "3099718f",
   "metadata": {},
   "outputs": [],
   "source": [
    "fatias = [7, 2, 2, 13]\n",
    "vendas = vendas_produtos['product_name']\n",
    "cores = ['olive', 'lime', 'violet', 'royalblue']"
   ]
  },
  {
   "cell_type": "code",
   "execution_count": 74,
   "id": "5b18fc5c",
   "metadata": {},
   "outputs": [
    {
     "data": {
      "image/png": "[encoded data removed]",
      "text/plain": [
       "<Figure size 640x480 with 1 Axes>"
      ]
     },
     "metadata": {},
     "output_type": "display_data"
    }
   ],
   "source": [
    "# neste gráfico podemos ver que o produto D é o mais vendido no período em análise\n",
    "plt.pie(fatias, labels = vendas, colors = cores, startangle = 90, shadow = True)\n",
    "plt.show()"
   ]
  },
  {
   "cell_type": "code",
   "execution_count": 89,
   "id": "26c3acf4",
   "metadata": {},
   "outputs": [],
   "source": [
    "df_teste_rox.to_csv('teste_rox.csv', sep=';', index=False)"
   ]
  },
  {
   "cell_type": "code",
   "execution_count": 91,
   "id": "ebcfad3b",
   "metadata": {},
   "outputs": [
    {
     "data": {
      "text/plain": [
       "order_id                 int64\n",
       "product_name            object\n",
       "quantity                 int64\n",
       "unit_price             float64\n",
       "cliente_id              object\n",
       "order_date      datetime64[ns]\n",
       "total                  float64\n",
       "year_month              object\n",
       "id_cliente              object\n",
       "name                    object\n",
       "last_name               object\n",
       "email                   object\n",
       "phone_number            object\n",
       "address                 object\n",
       "number                  object\n",
       "dtype: object"
      ]
     },
     "execution_count": 91,
     "metadata": {},
     "output_type": "execute_result"
    }
   ],
   "source": [
    "df_teste_rox.dtypes"
   ]
  },
  {
   "cell_type": "markdown",
   "id": "e97cf891",
   "metadata": {},
   "source": [
    "### <font color='blue'>Questão 4.</font>"
   ]
  },
  {
   "cell_type": "code",
   "execution_count": null,
   "id": "90a8b28a",
   "metadata": {},
   "outputs": [],
   "source": []
  }
 ],
 "metadata": {
  "kernelspec": {
   "display_name": "Python 3 (ipykernel)",
   "language": "python",
   "name": "python3"
  },
  "language_info": {
   "codemirror_mode": {
    "name": "ipython",
    "version": 3
   },
   "file_extension": ".py",
   "mimetype": "text/x-python",
   "name": "python",
   "nbconvert_exporter": "python",
   "pygments_lexer": "ipython3",
   "version": "3.9.13"
  }
 },
 "nbformat": 4,
 "nbformat_minor": 5
}
